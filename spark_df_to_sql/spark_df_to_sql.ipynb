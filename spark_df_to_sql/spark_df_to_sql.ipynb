{
 "cells": [
  {
   "cell_type": "markdown",
   "source": [
    "'''\n",
    "@Author: Naziya\n",
    "\n",
    "@Date: 2021-09-06\n",
    "\n",
    "@Last Modified by: Naziya\n",
    "\n",
    "@Last Modified : 2021-09-06\n",
    "\n",
    "@Title : Program Aim is to create a dataframe from cpu log data csv file using pyspark an perform the operations.\n",
    "        Then store the datafrme into the sql and load data from mysql table.\n",
    "'''"
   ],
   "metadata": {}
  },
  {
   "cell_type": "code",
   "execution_count": null,
   "source": [
    "from pyspark.sql import *\n",
    "import mysql.connector\n",
    "import pandas as pd\n",
    "from pyspark.sql import SparkSession\n",
    "from pyspark.sql import functions as func\n",
    "\n",
    "appName = \"PySpark MySQL Example - via mysql.connector\"\n",
    "master = \"local\"\n",
    "spark = SparkSession.builder.master(master).appName(appName).getOrCreate()\n"
   ],
   "outputs": [],
   "metadata": {}
  },
  {
   "cell_type": "code",
   "execution_count": null,
   "source": [
    "df = spark.read.csv(\"hdfs://localhost:9000/spark_sql/merged_CpuLogData.csv\",header=True)\n",
    "df2 = df.select(\"user_name\",\"DateTime\",\"keyboard\",\"mouse\")"
   ],
   "outputs": [],
   "metadata": {}
  },
  {
   "cell_type": "code",
   "execution_count": null,
   "source": [
    "df2.head(4)"
   ],
   "outputs": [],
   "metadata": {}
  },
  {
   "cell_type": "code",
   "execution_count": null,
   "source": [
    "# 1) Display users and their record counts\n",
    "dfc = df2.groupBy(\"user_name\").count()\n",
    "dfc.createOrReplaceTempView(\"tempdata\")\n",
    "record_count =  spark.sql(\"select * from tempdata\")\n",
    "record_count.show()\n"
   ],
   "outputs": [],
   "metadata": {}
  },
  {
   "cell_type": "markdown",
   "source": [
    "Users with highest number of average hours"
   ],
   "metadata": {}
  },
  {
   "cell_type": "code",
   "execution_count": null,
   "source": [
    "df.createOrReplaceTempView(\"view1\")\n",
    "df1 = spark.sql(\"select user_name from view1 where keyboard != 0 or mouse != 0\").groupBy(\"user_name\").count()\n",
    "df1.show(truncate=False)"
   ],
   "outputs": [],
   "metadata": {}
  },
  {
   "cell_type": "code",
   "execution_count": null,
   "source": [
    "df3 = df1.createOrReplaceTempView(\"hour_view\")"
   ],
   "outputs": [],
   "metadata": {}
  },
  {
   "cell_type": "code",
   "execution_count": null,
   "source": [
    "df4 = spark.sql(\"select user_name,count,((((count-1)*5)*60)/6) as avg_secs from hour_view\")"
   ],
   "outputs": [],
   "metadata": {}
  },
  {
   "cell_type": "code",
   "execution_count": null,
   "source": [
    "df4.show(truncate=False)"
   ],
   "outputs": [],
   "metadata": {}
  },
  {
   "cell_type": "code",
   "execution_count": null,
   "source": [
    "from pyspark.sql.functions import *\n",
    "highest_avg_hour = df4.withColumn(\"average_hours\", concat(\n",
    "            floor(col(\"avg_secs\") % 86400 / 3600), lit(\":\"),\n",
    "            floor((col(\"avg_secs\") % 86400) % 3600 / 60), lit(\"\"),\n",
    "           \n",
    "        ))\\\n",
    "    .drop(\"avg_secs\")"
   ],
   "outputs": [],
   "metadata": {}
  },
  {
   "cell_type": "code",
   "execution_count": null,
   "source": [
    "highest_avg_hour.show(truncate=False)"
   ],
   "outputs": [],
   "metadata": {}
  },
  {
   "cell_type": "markdown",
   "source": [
    "Users with highest number of average hours"
   ],
   "metadata": {}
  },
  {
   "cell_type": "code",
   "execution_count": null,
   "source": [
    "from pyspark.sql.functions import *\n",
    "lowest_avg_hour = df4.withColumn(\"average_hours\", concat(\n",
    "            floor(col(\"avg_secs\") % 86400 / 3600), lit(\":\"),\n",
    "            floor((col(\"avg_secs\") % 86400) % 3600 / 60), lit(\"\"),\n",
    "           \n",
    "        ))\\\n",
    "    .drop(\"avg_secs\")\\\n",
    "    .sort(asc(\"average_hours\"))"
   ],
   "outputs": [],
   "metadata": {}
  },
  {
   "cell_type": "code",
   "execution_count": null,
   "source": [
    "lowest_avg_hour.show()"
   ],
   "outputs": [],
   "metadata": {}
  },
  {
   "cell_type": "markdown",
   "source": [
    "\n",
    "Users with highest number of idle hours\n"
   ],
   "metadata": {}
  },
  {
   "cell_type": "code",
   "execution_count": null,
   "source": [
    "df5 = spark.sql(\"select user_name from view1 where keyboard == 0 and mouse == 0\").groupBy(\"user_name\").count()\n",
    "df5.show()"
   ],
   "outputs": [],
   "metadata": {}
  },
  {
   "cell_type": "code",
   "execution_count": null,
   "source": [
    "df5.createOrReplaceTempView('idle_hour_view')"
   ],
   "outputs": [],
   "metadata": {}
  },
  {
   "cell_type": "code",
   "execution_count": null,
   "source": [
    "df6 = spark.sql(\"select user_name,count,((((count-1)*5)*60)/6) as average_min from idle_hour_view\")"
   ],
   "outputs": [],
   "metadata": {}
  },
  {
   "cell_type": "code",
   "execution_count": null,
   "source": [
    "df6.show(truncate=False)"
   ],
   "outputs": [],
   "metadata": {}
  },
  {
   "cell_type": "code",
   "execution_count": null,
   "source": [
    "from pyspark.sql.functions import *\n",
    "idle_hour = df6.withColumn(\"idle_hours\", concat(\n",
    "            floor(col(\"average_min\") % 86400 / 3600), lit(\":\"),\n",
    "            floor((col(\"average_min\") % 86400) % 3600 / 60), lit(\"\"),\n",
    "           \n",
    "        ))\\\n",
    "    .drop(\"average_min\")\\\n",
    "    .sort(desc(\"idle_hours\"))"
   ],
   "outputs": [],
   "metadata": {}
  },
  {
   "cell_type": "code",
   "execution_count": null,
   "source": [
    "idle_hour.show(truncate=False)"
   ],
   "outputs": [],
   "metadata": {}
  },
  {
   "cell_type": "code",
   "execution_count": null,
   "source": [
    "import os\n",
    "from LoggerFormat import logger\n",
    "from dotenv import load_dotenv\n",
    "load_dotenv('.env')\n",
    "# set variable to be used to connect the database\n",
    "database=os.getenv(\"DB_NAME\")\n",
    "user=os.getenv(\"USERNAME\")\n",
    "password=os.getenv(\"PASSWORD\")\n",
    "host=os.getenv(\"HOST\")\n"
   ],
   "outputs": [],
   "metadata": {}
  },
  {
   "cell_type": "code",
   "execution_count": null,
   "source": [
    "jdbc_url = f\"jdbc:mysql://localhost:3306/\"+ database\n",
    "try:\n",
    "   \n",
    "   #write the dataFrame into a sql table\n",
    "   dfc.write.format(\"jdbc\").option(\"url\",jdbc_url) \\\n",
    "      .mode(\"overwrite\")\\\n",
    "      .option(\"dbtable\",\"user_record_count\") \\\n",
    "      .option(\"driver\",\"com.mysql.jdbc.Driver\")\\\n",
    "      .option(\"user\",user).option(\"password\",password).save()\n",
    "   print(\"Successfully wrote to mysql\")\n",
    "\n",
    "except Exception as e:\n",
    "   logger.error(e)\n"
   ],
   "outputs": [],
   "metadata": {}
  },
  {
   "cell_type": "markdown",
   "source": [
    "\n",
    "SAVING SPARK DATAFRAME INTO MYSQL DATABASE"
   ],
   "metadata": {}
  },
  {
   "cell_type": "code",
   "execution_count": null,
   "source": [
    "try:\n",
    "   highest_avg_hour.write.format(\"jdbc\").option(\"url\",jdbc_url) \\\n",
    "      .mode(\"overwrite\") \\\n",
    "      .option(\"dbtable\",\"highest_number_average_hours\") \\\n",
    "      .option(\"user\",user).option(\"password\",password).save()\n",
    "   print(\"Successfully wrote to mysql\")\n",
    "\n",
    "except Exception as e:\n",
    "   logger.error(e)"
   ],
   "outputs": [],
   "metadata": {}
  },
  {
   "cell_type": "code",
   "execution_count": null,
   "source": [
    "try:\n",
    "    lowest_avg_hour.write.format(\"jdbc\").option(\"url\",jdbc_url) \\\n",
    "        .mode(\"overwrite\") \\\n",
    "        .option(\"dbtable\",\"lowest_number_average_hours\") \\\n",
    "        .option(\"user\",user).option(\"password\",password).save()\n",
    "    print(\"Successfully wrote to mysql\")\n",
    "\n",
    "except Exception as e:\n",
    "   logger.error(e)"
   ],
   "outputs": [],
   "metadata": {}
  },
  {
   "cell_type": "code",
   "execution_count": null,
   "source": [
    "try:\n",
    "    idle_hour.write.format(\"jdbc\").option(\"url\",jdbc_url) \\\n",
    "        .mode(\"overwrite\") \\\n",
    "        .option(\"dbtable\",\"highest_number_of_idle_hours\") \\\n",
    "        .option(\"user\",user).option(\"password\",password).save()\n",
    "    print(\"Successfully wrote to mysql\")\n",
    "\n",
    "except Exception as e:\n",
    "   logger.error(e)"
   ],
   "outputs": [],
   "metadata": {}
  },
  {
   "cell_type": "code",
   "execution_count": null,
   "source": [
    "try:\n",
    "    conn = mysql.connector.connect(\n",
    "                    host=host,\n",
    "                    user=user,\n",
    "                    password=password,\n",
    "                    database=database\n",
    "                )\n",
    "    cursor = conn.cursor()\n",
    "    \n",
    "    query = \"SELECT user_name,count FROM highest_number_of_idle_hours\"\n",
    "    #Create a pandas dataframe\n",
    "    pdf = pd.read_sql(query, con=conn)\n",
    "    conn.close()\n",
    "    \n",
    "    # Convert Pandas dataframe to spark DataFrame\n",
    "    df = spark.createDataFrame(pdf)\n",
    "\n",
    "\n",
    "except Exception as e:\n",
    "    logger.error(e)\n",
    "\n",
    " \n",
    "df.show()\n"
   ],
   "outputs": [],
   "metadata": {}
  },
  {
   "cell_type": "code",
   "execution_count": null,
   "source": [],
   "outputs": [],
   "metadata": {}
  },
  {
   "cell_type": "code",
   "execution_count": null,
   "source": [],
   "outputs": [],
   "metadata": {}
  },
  {
   "cell_type": "code",
   "execution_count": null,
   "source": [],
   "outputs": [],
   "metadata": {}
  },
  {
   "cell_type": "code",
   "execution_count": null,
   "source": [],
   "outputs": [],
   "metadata": {}
  },
  {
   "cell_type": "code",
   "execution_count": null,
   "source": [],
   "outputs": [],
   "metadata": {}
  },
  {
   "cell_type": "code",
   "execution_count": null,
   "source": [],
   "outputs": [],
   "metadata": {}
  }
 ],
 "metadata": {
  "orig_nbformat": 4,
  "language_info": {
   "name": "python",
   "version": "3.8.10",
   "mimetype": "text/x-python",
   "codemirror_mode": {
    "name": "ipython",
    "version": 3
   },
   "pygments_lexer": "ipython3",
   "nbconvert_exporter": "python",
   "file_extension": ".py"
  },
  "kernelspec": {
   "name": "python3",
   "display_name": "Python 3.8.10 64-bit"
  },
  "interpreter": {
   "hash": "31f2aee4e71d21fbe5cf8b01ff0e069b9275f58929596ceb00d14d90e3e16cd6"
  }
 },
 "nbformat": 4,
 "nbformat_minor": 2
}